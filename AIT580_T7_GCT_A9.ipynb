{
 "cells": [
  {
   "cell_type": "markdown",
   "id": "f9179af6",
   "metadata": {},
   "source": [
    "# AIT 580 - Assignment 9\n",
    "\n",
    "John Gullette, Rebecca Conn, Karyna Todd"
   ]
  },
  {
   "cell_type": "markdown",
   "id": "84eb65d9",
   "metadata": {},
   "source": [
    "### 2.1.1 Import libraries"
   ]
  },
  {
   "cell_type": "code",
   "execution_count": 37,
   "id": "fc207843",
   "metadata": {},
   "outputs": [],
   "source": [
    "import nltk\n",
    "from nltk.tokenize import sent_tokenize, word_tokenize\n",
    "from nltk.corpus import stopwords\n",
    "from textblob.classifiers import NaiveBayesClassifier\n",
    "import numpy as np\n",
    "from sklearn.model_selection import train_test_split"
   ]
  },
  {
   "cell_type": "markdown",
   "id": "067403f7",
   "metadata": {},
   "source": [
    "### 2.1.2 Load one text file: pos_tweets.txt."
   ]
  },
  {
   "cell_type": "code",
   "execution_count": 38,
   "id": "bb4962ae",
   "metadata": {},
   "outputs": [],
   "source": [
    "fo = open(\"pos_tweets.txt\", 'r', encoding = 'utf-8')\n",
    "mytext = fo.read()"
   ]
  },
  {
   "cell_type": "markdown",
   "id": "604316a9",
   "metadata": {},
   "source": [
    "### 2.1.3 Tokenize sentences. Print # of the sentences and list 5 sentences."
   ]
  },
  {
   "cell_type": "code",
   "execution_count": 39,
   "id": "df84ef0a",
   "metadata": {},
   "outputs": [
    {
     "name": "stdout",
     "output_type": "stream",
     "text": [
      "# of sentences:  738\n"
     ]
    },
    {
     "data": {
      "text/plain": [
       "['\" i cheer myself up when i\\'m down by listening to my playlist called, genius: ballads and cellos.',\n",
       " 'i love my ipod and my taste of music.\"',\n",
       " '\" just watched the movie wanted... it was pretty darn good.\"',\n",
       " '\" now i\\'m happy \"\\n\"--plotting like i\\'m mike..\\'game plan:pass the ball to lebron at all times and dont foul\\'..certainly we\\'ll win  haha..go cavs goooo!\"',\n",
       " '\"@ mcdonalds with my litto sis aka cuzin lol cristyyyyy \"\\n\"@ pbnjen : thanks for the great tour and making me even more excited to work in pr!']"
      ]
     },
     "execution_count": 39,
     "metadata": {},
     "output_type": "execute_result"
    }
   ],
   "source": [
    "sentences = sent_tokenize(mytext.lower())\n",
    "print('# of sentences: ', len(sentences))\n",
    "sentences[:5]"
   ]
  },
  {
   "cell_type": "markdown",
   "id": "0a0113ba",
   "metadata": {},
   "source": [
    "### 2.1.4 Tokenize words and remove punctuations. Print # of the words and list 50 words only."
   ]
  },
  {
   "cell_type": "code",
   "execution_count": 40,
   "id": "a7a60c9c",
   "metadata": {},
   "outputs": [
    {
     "name": "stdout",
     "output_type": "stream",
     "text": [
      "# of words:  8869\n"
     ]
    },
    {
     "data": {
      "text/plain": [
       "['i',\n",
       " 'cheer',\n",
       " 'myself',\n",
       " 'up',\n",
       " 'when',\n",
       " 'i',\n",
       " 'm',\n",
       " 'down',\n",
       " 'by',\n",
       " 'listening',\n",
       " 'to',\n",
       " 'my',\n",
       " 'playlist',\n",
       " 'called',\n",
       " 'genius',\n",
       " 'ballads',\n",
       " 'and',\n",
       " 'cellos',\n",
       " 'i',\n",
       " 'love',\n",
       " 'my',\n",
       " 'ipod',\n",
       " 'and',\n",
       " 'my',\n",
       " 'taste',\n",
       " 'of',\n",
       " 'music',\n",
       " 'just',\n",
       " 'watched',\n",
       " 'the',\n",
       " 'movie',\n",
       " 'wanted',\n",
       " 'it',\n",
       " 'was',\n",
       " 'pretty',\n",
       " 'darn',\n",
       " 'good',\n",
       " 'now',\n",
       " 'i',\n",
       " 'm',\n",
       " 'happy',\n",
       " 'plotting',\n",
       " 'like',\n",
       " 'i',\n",
       " 'm',\n",
       " 'mike',\n",
       " 'game',\n",
       " 'plan',\n",
       " 'pass',\n",
       " 'the']"
      ]
     },
     "execution_count": 40,
     "metadata": {},
     "output_type": "execute_result"
    }
   ],
   "source": [
    "tokenizer = nltk.RegexpTokenizer('\\w+')\n",
    "words = tokenizer.tokenize(mytext.lower())\n",
    "print('# of words: ', len(words))\n",
    "words[:50]"
   ]
  },
  {
   "cell_type": "markdown",
   "id": "7f9e8b55",
   "metadata": {},
   "source": [
    "### 2.1.5 Remove stop words. Print the # of stop words and list 50 stop words."
   ]
  },
  {
   "cell_type": "code",
   "execution_count": 41,
   "id": "9c3943d8",
   "metadata": {},
   "outputs": [
    {
     "name": "stdout",
     "output_type": "stream",
     "text": [
      "# of words without stop words:  5209\n"
     ]
    },
    {
     "data": {
      "text/plain": [
       "['cheer',\n",
       " 'listening',\n",
       " 'playlist',\n",
       " 'called',\n",
       " 'genius',\n",
       " 'ballads',\n",
       " 'cellos',\n",
       " 'love',\n",
       " 'ipod',\n",
       " 'taste',\n",
       " 'music',\n",
       " 'watched',\n",
       " 'movie',\n",
       " 'wanted',\n",
       " 'pretty',\n",
       " 'darn',\n",
       " 'good',\n",
       " 'happy',\n",
       " 'plotting',\n",
       " 'like',\n",
       " 'mike',\n",
       " 'game',\n",
       " 'plan',\n",
       " 'pass',\n",
       " 'ball',\n",
       " 'lebron',\n",
       " 'times',\n",
       " 'dont',\n",
       " 'foul',\n",
       " 'certainly',\n",
       " 'win',\n",
       " 'haha',\n",
       " 'go',\n",
       " 'cavs',\n",
       " 'goooo',\n",
       " 'mcdonalds',\n",
       " 'litto',\n",
       " 'sis',\n",
       " 'aka',\n",
       " 'cuzin',\n",
       " 'lol',\n",
       " 'cristyyyyy',\n",
       " 'pbnjen',\n",
       " 'thanks',\n",
       " 'great',\n",
       " 'tour',\n",
       " 'making',\n",
       " 'even',\n",
       " 'excited',\n",
       " 'work']"
      ]
     },
     "execution_count": 41,
     "metadata": {},
     "output_type": "execute_result"
    }
   ],
   "source": [
    "sw = stopwords.words('english')\n",
    "words = [word for word in words if word.lower() not in sw]\n",
    "print('# of words without stop words: ', len(words))\n",
    "words[:50]"
   ]
  },
  {
   "cell_type": "markdown",
   "id": "e7de9d8f",
   "metadata": {},
   "source": [
    "### 2.1.6 Calculate the word count or frequency."
   ]
  },
  {
   "cell_type": "code",
   "execution_count": 42,
   "id": "b8722871",
   "metadata": {},
   "outputs": [
    {
     "data": {
      "text/plain": [
       "FreqDist({'love': 67, 'good': 58, 'day': 47, 'lakers': 44, 'taylor': 41, 'swift': 40, 'new': 38, 'go': 35, 'see': 34, 'great': 33, ...})"
      ]
     },
     "execution_count": 42,
     "metadata": {},
     "output_type": "execute_result"
    }
   ],
   "source": [
    "freq_dist = nltk.FreqDist(words)\n",
    "freq_dist"
   ]
  },
  {
   "cell_type": "markdown",
   "id": "746a0c86",
   "metadata": {},
   "source": [
    "### 2.1.7 Draw a plot of frequency distribution and print out the list of the top 20 pairs of the word and frequency."
   ]
  },
  {
   "cell_type": "code",
   "execution_count": 43,
   "id": "f88840b9",
   "metadata": {},
   "outputs": [
    {
     "data": {
      "image/png": "[encoded data removed]",
      "text/plain": [
       "<Figure size 432x288 with 1 Axes>"
      ]
     },
     "metadata": {
      "needs_background": "light"
     },
     "output_type": "display_data"
    },
    {
     "data": {
      "text/plain": [
       "[('love', 67),\n",
       " ('good', 58),\n",
       " ('day', 47),\n",
       " ('lakers', 44),\n",
       " ('taylor', 41),\n",
       " ('swift', 40),\n",
       " ('new', 38),\n",
       " ('go', 35),\n",
       " ('see', 34),\n",
       " ('great', 33),\n",
       " ('going', 33),\n",
       " ('oprah', 30),\n",
       " ('get', 28),\n",
       " ('today', 28),\n",
       " ('nice', 27),\n",
       " ('got', 27),\n",
       " ('lol', 26),\n",
       " ('thanks', 26),\n",
       " ('night', 26),\n",
       " ('time', 26)]"
      ]
     },
     "execution_count": 43,
     "metadata": {},
     "output_type": "execute_result"
    }
   ],
   "source": [
    "freq_dist.plot(20)\n",
    "freq_dist.most_common(20)"
   ]
  },
  {
   "cell_type": "markdown",
   "id": "27635960",
   "metadata": {},
   "source": [
    "### 2.1.8 Observe above outputs and plots. What can you find? Please explain."
   ]
  },
  {
   "cell_type": "markdown",
   "id": "aba81e6f",
   "metadata": {},
   "source": [
    "From the above outputs and plots, we find that the words \"love\" and \"good\" are far out the most used descriptors in the positive tweets. Additionally, the subject of the tweets is often about the Lakers (the Los Angeles basketball team, I presume), Taylor Swift, and Oprah. "
   ]
  },
  {
   "cell_type": "markdown",
   "id": "b547d3d9",
   "metadata": {},
   "source": [
    "## 2.2 Text Classification "
   ]
  },
  {
   "cell_type": "markdown",
   "id": "21e8e428",
   "metadata": {},
   "source": [
    "### 2.2.1 Load two data files: neg_tweets.txt and pos_tweets.txt."
   ]
  },
  {
   "cell_type": "code",
   "execution_count": 44,
   "id": "2e666728",
   "metadata": {},
   "outputs": [],
   "source": [
    "neg_fo = open('neg_tweets.txt', 'r', encoding = 'utf-8')\n",
    "negtext = neg_fo.read()\n",
    "\n",
    "#Tokenize the negative tweets into sentences\n",
    "neg_sentences = sent_tokenize(negtext.lower())\n",
    "\n",
    "#Rename senteneces to pos_sentences to distinguish between the positive and negative text files\n",
    "pos_sentences = sentences\n",
    "\n",
    "#Place the two datasets into a lists of tuples marking each sentence either neg or pos\n",
    "pos_data = []\n",
    "neg_data = []\n",
    "\n",
    "for sentence in pos_sentences:\n",
    "    s = (sentence, 'pos')\n",
    "    pos_data.append(s)\n",
    "        \n",
    "for sentence in neg_sentences:\n",
    "    t = (sentence, 'neg')\n",
    "    neg_data.append(t)\n"
   ]
  },
  {
   "cell_type": "markdown",
   "id": "e1131716",
   "metadata": {},
   "source": [
    "### 2.2.2 Split the data into a training set and a test set."
   ]
  },
  {
   "cell_type": "code",
   "execution_count": 45,
   "id": "64118238",
   "metadata": {},
   "outputs": [],
   "source": [
    "#Split the positive and negative data sets into a training and test set\n",
    "pos_data = np.array(pos_data)\n",
    "neg_data = np.array(neg_data)\n",
    "pos_train, pos_test = train_test_split(pos_data, test_size = 0.2)\n",
    "neg_train, neg_test = train_test_split(neg_data, test_size = 0.2)\n",
    "\n",
    "#Combine the training and test sets so the final sets have both positive and negative tweets\n",
    "#Used information from https://numpy.org/doc/stable/reference/generated/numpy.concatenate.html\n",
    "all_train = np.concatenate((pos_train, neg_train), axis = 0)\n",
    "all_test = np.concatenate((pos_test, neg_test), axis = 0)\n"
   ]
  },
  {
   "cell_type": "markdown",
   "id": "4fea550d",
   "metadata": {},
   "source": [
    "### 2.2.3.1 Use TextBlob NB classifier to classify the sentiments, show the accuracy and most informative features."
   ]
  },
  {
   "cell_type": "code",
   "execution_count": 46,
   "id": "58b17672",
   "metadata": {},
   "outputs": [
    {
     "name": "stdout",
     "output_type": "stream",
     "text": [
      "Accuracy: 0.7587064676616916\n",
      "Most Informative Features\n",
      "      contains(headache) = True              neg : pos    =     21.1 : 1.0\n",
      "            contains(no) = True              neg : pos    =     17.3 : 1.0\n",
      "          contains(been) = True              neg : pos    =     12.6 : 1.0\n",
      "          contains(lost) = True              neg : pos    =     11.8 : 1.0\n",
      "       contains(awesome) = True              pos : neg    =     11.3 : 1.0\n",
      "          contains(damn) = True              neg : pos    =     10.7 : 1.0\n",
      "          contains(sick) = True              neg : pos    =     10.7 : 1.0\n",
      "         contains(thank) = True              pos : neg    =      9.7 : 1.0\n",
      "         contains(sorry) = True              neg : pos    =      9.5 : 1.0\n",
      "     contains(beautiful) = True              pos : neg    =      7.4 : 1.0\n"
     ]
    }
   ],
   "source": [
    "#Classify and show accuracy\n",
    "classifier = NaiveBayesClassifier(all_train)\n",
    "print(\"Accuracy: {0}\".format(classifier.accuracy(all_test)))\n",
    "\n",
    "#Show most informative features\n",
    "classifier.show_informative_features(10)"
   ]
  },
  {
   "cell_type": "markdown",
   "id": "7bd32d33",
   "metadata": {},
   "source": [
    "### 2.2.2.2 Observe the above outputs. Explain your findings."
   ]
  },
  {
   "cell_type": "markdown",
   "id": "1c4a88e2",
   "metadata": {},
   "source": [
    "In the above output, we find that based upon a training set of 80%, the classifier has an accuracy of just around 77%. This is for determining if a sentence has positive sentiment or negative sentiment. Likewise, the classifier uses the above 10 words as the strongest terms to determine the sentiment. The words \"headache\", \"awesome\", and \"no\" are significantly stronger than any other word in classification. "
   ]
  },
  {
   "cell_type": "code",
   "execution_count": null,
   "id": "f8c7d446",
   "metadata": {},
   "outputs": [],
   "source": []
  }
 ],
 "metadata": {
  "kernelspec": {
   "display_name": "Python 3",
   "language": "python",
   "name": "python3"
  },
  "language_info": {
   "codemirror_mode": {
    "name": "ipython",
    "version": 3
   },
   "file_extension": ".py",
   "mimetype": "text/x-python",
   "name": "python",
   "nbconvert_exporter": "python",
   "pygments_lexer": "ipython3",
   "version": "3.8.8"
  }
 },
 "nbformat": 4,
 "nbformat_minor": 5
}
